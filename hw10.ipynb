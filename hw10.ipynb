{
  "nbformat": 4,
  "nbformat_minor": 0,
  "metadata": {
    "accelerator": "GPU",
    "colab": {
      "provenance": []
    },
    "kernelspec": {
      "display_name": "Python 3",
      "language": "python",
      "name": "python3"
    },
    "language_info": {
      "codemirror_mode": {
        "name": "ipython",
        "version": 3
      },
      "file_extension": ".py",
      "mimetype": "text/x-python",
      "name": "python",
      "nbconvert_exporter": "python",
      "pygments_lexer": "ipython3",
      "version": "3.7.10"
    }
  },
  "cells": [
    {
      "cell_type": "code",
      "metadata": {
        "execution": {
          "iopub.execute_input": "2021-05-19T11:30:36.673334Z",
          "iopub.status.busy": "2021-05-19T11:30:36.672690Z",
          "iopub.status.idle": "2021-05-19T11:30:43.495621Z",
          "shell.execute_reply": "2021-05-19T11:30:43.494984Z"
        },
        "id": "0trJmd6DjqBZ"
      },
      "source": [
        "from __future__ import absolute_import, division, print_function\n",
        "\n",
        "import torch\n",
        "import torch.nn as nn\n",
        "import torch.nn.functional as F\n",
        "import torch.optim as optim\n",
        "import torchvision\n",
        "import torchvision.transforms as transforms\n",
        "from torch.autograd import Variable\n",
        "import numpy as np"
      ],
      "execution_count": 13,
      "outputs": []
    },
    {
      "cell_type": "markdown",
      "metadata": {
        "id": "7NAbSZiaoJ4z"
      },
      "source": [
        "Download dữ liệu chữ số viết tay MNIST"
      ]
    },
    {
      "cell_type": "code",
      "metadata": {
        "execution": {
          "iopub.execute_input": "2021-05-19T11:30:43.501155Z",
          "iopub.status.busy": "2021-05-19T11:30:43.500509Z",
          "iopub.status.idle": "2021-05-19T11:30:44.026366Z",
          "shell.execute_reply": "2021-05-19T11:30:44.026834Z"
        },
        "id": "JqFRS6K07jJs"
      },
      "source": [
        "# Chuẩn bị dữ liệu\n",
        "from tensorflow.keras.datasets import mnist\n",
        "(x_train, y_train), (x_test, y_test) = mnist.load_data()\n",
        "# Chuyển đổi sang định dạng float32.\n",
        "x_train, x_test = np.array(x_train, np.float32), np.array(x_test, np.float32)\n",
        "# Chuẩn hóa ảnh từ from [0, 255] to [0, 1].\n",
        "x_train, x_test = x_train / 255., x_test / 255.\n",
        "x_train, x_test, y_train, y_test = torch.from_numpy(x_train), torch.from_numpy(x_test), torch.from_numpy(y_train).type(torch.LongTensor), torch.from_numpy(y_test).type(torch.LongTensor)"
      ],
      "execution_count": 14,
      "outputs": []
    },
    {
      "cell_type": "code",
      "metadata": {
        "id": "jS1f1TsVxoj6"
      },
      "source": [
        "batch_size = 16\n",
        "trainloader = []\n",
        "for (i,j) in zip(x_train, y_train):\n",
        "    trainloader.append([i,j])\n",
        "trainloader = torch.utils.data.DataLoader(trainloader, shuffle=True, batch_size=batch_size)\n",
        "\n",
        "testloader = []\n",
        "for (i,j) in zip(x_test, y_test):\n",
        "    testloader.append([i,j])\n",
        "testloader = torch.utils.data.DataLoader(testloader, shuffle=True, batch_size=batch_size)"
      ],
      "execution_count": 3,
      "outputs": []
    },
    {
      "cell_type": "code",
      "metadata": {
        "id": "Ps36LD2btm0W"
      },
      "source": [
        "num_features = 784\n",
        "n_hidden_1 = 512\n",
        "n_hidden_2 = 128\n",
        "n_hidden_3 = 32\n",
        "num_classes = 10"
      ],
      "execution_count": 4,
      "outputs": []
    },
    {
      "cell_type": "markdown",
      "metadata": {
        "id": "Ar0KFOo-mjsn"
      },
      "source": [
        "Sử dụng các tham số ở trên để xây dựng mô hình"
      ]
    },
    {
      "cell_type": "code",
      "metadata": {
        "execution": {
          "iopub.execute_input": "2021-05-19T11:30:44.902515Z",
          "iopub.status.busy": "2021-05-19T11:30:44.901796Z",
          "iopub.status.idle": "2021-05-19T11:30:45.195908Z",
          "shell.execute_reply": "2021-05-19T11:30:45.195388Z"
        },
        "id": "h3IKyzTCDNGo"
      },
      "source": [
        "import torch.nn as nn\n",
        "import torch.nn.functional as F\n",
        "\n",
        "class Net(nn.Module):\n",
        "    def __init__(self):\n",
        "        super(Net, self).__init__()\n",
        "        self.fc1 = nn.Linear(num_features, n_hidden_1)\n",
        "        self.fc2 = nn.Linear(n_hidden_1, n_hidden_2)\n",
        "        self.fc3 = nn.Linear(n_hidden_2, n_hidden_3)\n",
        "\n",
        "    def forward(self, x):\n",
        "        x = x.view(-1, num_features)\n",
        "        x = F.relu(self.fc1(x))\n",
        "        x = F.relu(self.fc2(x))\n",
        "        x = self.fc3(x)\n",
        "        return x\n",
        "\n",
        "net = Net()"
      ],
      "execution_count": 5,
      "outputs": []
    },
    {
      "cell_type": "code",
      "metadata": {
        "id": "t9ns5fidtz-t"
      },
      "source": [
        "import torch.optim as optim\n",
        "\n",
        "criterion = nn.CrossEntropyLoss()\n",
        "def optimizer(k):\n",
        "    return optim.SGD(net.parameters(), lr=k, momentum=0.9)\n",
        "optimizer = optimizer(0.01)"
      ],
      "execution_count": 6,
      "outputs": []
    },
    {
      "cell_type": "code",
      "metadata": {
        "execution": {
          "iopub.execute_input": "2021-05-19T11:30:45.235727Z",
          "iopub.status.busy": "2021-05-19T11:30:45.235098Z",
          "iopub.status.idle": "2021-05-19T11:31:05.875247Z",
          "shell.execute_reply": "2021-05-19T11:31:05.875663Z"
        },
        "id": "i-2pkctU_Ci7",
        "colab": {
          "base_uri": "https://localhost:8080/"
        },
        "outputId": "bf462510-d9da-42c1-8551-d704e2841dff"
      },
      "source": [
        "n_epochs = 1\n",
        "for epoch in range(n_epochs):\n",
        "\n",
        "    running_loss = 0.0\n",
        "    for i, data in enumerate(trainloader, 0):\n",
        "        # load input và labels\n",
        "        inputs, labels = data\n",
        "\n",
        "        # zero the parameter gradients\n",
        "        optimizer.zero_grad()\n",
        "\n",
        "        # forward + backward + optimize\n",
        "        outputs = net(inputs)\n",
        "        # print(labels.shape)\n",
        "        # print(outputs.shape)\n",
        "        loss = criterion(outputs, labels)\n",
        "        loss.backward()\n",
        "        optimizer.step()\n",
        "\n",
        "        # print statistics\n",
        "        running_loss += loss.item()\n",
        "        if i % 2000 == 1999:    # print every 2000 mini-batches\n",
        "            print('[%d, %5d] loss: %.3f' %\n",
        "                  (epoch + 1, i + 1, running_loss / 2000))\n",
        "            running_loss = 0.0\n",
        "\n",
        "print('Finished Training')"
      ],
      "execution_count": 9,
      "outputs": [
        {
          "output_type": "stream",
          "name": "stdout",
          "text": [
            "[1,  2000] loss: 0.398\n",
            "Finished Training\n"
          ]
        }
      ]
    },
    {
      "cell_type": "code",
      "metadata": {
        "id": "qTG2aSROu4kK",
        "colab": {
          "base_uri": "https://localhost:8080/"
        },
        "outputId": "838a01ff-e2de-47b0-a571-0b5657fce611"
      },
      "source": [
        "correct = 0\n",
        "total = 0\n",
        "# do đang thực hiện việc dự đoán nên ko cần tính đạo hàm\n",
        "with torch.no_grad():\n",
        "    for data in testloader:\n",
        "        inputs, labels = data\n",
        "        # chạy hàm dự đoán\n",
        "        outputs = net(inputs)\n",
        "        # the class với giá trị xác suất cao nhất là đâu ra dự đoán\n",
        "        _, predicted = torch.max(outputs.data, 1)\n",
        "        total += labels.size(0)\n",
        "        correct += (predicted == labels).sum().item()\n",
        "\n",
        "print('Accuracy of the network on the 10000 test images: %d %%' % (\n",
        "    100 * correct / total))"
      ],
      "execution_count": 12,
      "outputs": [
        {
          "output_type": "stream",
          "name": "stdout",
          "text": [
            "Accuracy of the network on the 10000 test images: 95 %\n"
          ]
        }
      ]
    },
    {
      "cell_type": "markdown",
      "metadata": {
        "id": "rHXvZHDXOhMW"
      },
      "source": [
        "## Save and load model<br>\n",
        "Trình bày 1 trong các các lưu model và load model trong PyTorch\n",
        "\n",
        "1.   Lưu model<br>\n",
        "```\n",
        "torch.save(model.state_dict(), PATH)\n",
        "```\n",
        "trong đó PATH là đường dẫn tự định nghĩa\n",
        "2.   Load model <br>\n",
        "\n",
        "*   Trước tiên phải định nghĩa model trước. Model được định nghĩa phải giống hệt với model đã được lưu lại. Như ví dụ trong bài này, thì sẽ thực hiện như sau:\n",
        "```\n",
        "model = Net()\n",
        "```\n",
        "*   Load trọng số đã được học vào mô hình<br>\n",
        "```\n",
        "model.load_state_dict(torch.load(PATH))\n",
        "# vô hiệu hóa các layer như Dropout hay BatchNorm\n",
        "model.eval()\n",
        "```\n",
        "3. Có thể tham khảo thêm các phương pháp lưu và load model tại: https://pytorch.org/tutorials/beginner/basics/saveloadrun_tutorial.html\n",
        "\n",
        "\n",
        "\n",
        "\n",
        "\n",
        "\n"
      ]
    },
    {
      "cell_type": "code",
      "metadata": {
        "id": "lhSsevChOxXE",
        "colab": {
          "base_uri": "https://localhost:8080/"
        },
        "outputId": "03f0b340-efe6-4edb-82b6-c5703f59156f"
      },
      "source": [
        "# prompt: hãy thực hiện đủ ba bước như hướng dẫn bên trên và lưu model dưới tên minhnv_path\n",
        "\n",
        "PATH = 'minhnv_path'\n",
        "torch.save(net.state_dict(), PATH)\n",
        "\n",
        "model = Net()\n",
        "model.load_state_dict(torch.load(PATH))\n",
        "model.eval()\n"
      ],
      "execution_count": 16,
      "outputs": [
        {
          "output_type": "stream",
          "name": "stderr",
          "text": [
            "<ipython-input-16-828389ef4e3e>:7: FutureWarning: You are using `torch.load` with `weights_only=False` (the current default value), which uses the default pickle module implicitly. It is possible to construct malicious pickle data which will execute arbitrary code during unpickling (See https://github.com/pytorch/pytorch/blob/main/SECURITY.md#untrusted-models for more details). In a future release, the default value for `weights_only` will be flipped to `True`. This limits the functions that could be executed during unpickling. Arbitrary objects will no longer be allowed to be loaded via this mode unless they are explicitly allowlisted by the user via `torch.serialization.add_safe_globals`. We recommend you start setting `weights_only=True` for any use case where you don't have full control of the loaded file. Please open an issue on GitHub for any issues related to this experimental feature.\n",
            "  model.load_state_dict(torch.load(PATH))\n"
          ]
        },
        {
          "output_type": "execute_result",
          "data": {
            "text/plain": [
              "Net(\n",
              "  (fc1): Linear(in_features=784, out_features=512, bias=True)\n",
              "  (fc2): Linear(in_features=512, out_features=128, bias=True)\n",
              "  (fc3): Linear(in_features=128, out_features=32, bias=True)\n",
              ")"
            ]
          },
          "metadata": {},
          "execution_count": 16
        }
      ]
    }
  ]
}