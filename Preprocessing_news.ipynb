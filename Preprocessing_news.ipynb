{
 "cells": [
  {
   "cell_type": "markdown",
   "metadata": {
    "id": "5Hfbb2nzl9DZ"
   },
   "source": [
    "# Pre-processing News Data"
   ]
  },
  {
   "cell_type": "markdown",
   "metadata": {
    "id": "T1elcGz7huoP"
   },
   "source": [
    "## Bài toán\n",
    "Dữ liệu gồm n văn bản phân vào 10 chủ đề khác nhau. Cần biễu diễn mỗi văn bản dưới dạng một vector số thể hiện cho nội dụng của văn bản đó."
   ]
  },
  {
   "cell_type": "markdown",
   "metadata": {
    "id": "lyy4DDvuhuoU"
   },
   "source": [
    "## Mục lục\n",
    "- Load dữ liệu từ thư mục\n",
    "- Loại bỏ các stop words\n",
    "- Sử dụng thư viện để mã hóa TF-IDF cho mỗi văn bản"
   ]
  },
  {
   "cell_type": "markdown",
   "metadata": {
    "id": "-_akck0KhuoW"
   },
   "source": [
    "## Phương pháp mã hóa: TF-IDF\n",
    "Cho tập gồm $n$ văn bản: $D = \\{d_1, d_2, ... d_n\\}$. Tập từ điển tương ứng được xây dựng từ $n$ văn bản này có độ dài là $m$\n",
    "- Xét văn bản $d$ có $|d|$ từ và $t$ là một từ trong $d$. Mã hóa tf-idf của $t$ trong văn bản $d$ được biểu diễn:\n",
    "\\begin{equation}\n",
    "    \\begin{split}\n",
    "        \\text{tf}_{t, d} &= \\frac{f_t}{|d|} \\\\\n",
    "        \\text{idf}_{t, d} &= \\log\\frac{n}{n_t}, \\ \\ \\ \\ n_t = |\\{d\\in D: t\\in d\\}| \\\\\n",
    "        \\text{tf-idf}_{t d} &= \\text{tf}_{t, d} \\times \\text{idf}_{t, d}\n",
    "    \\end{split}\n",
    "\\end{equation}\n",
    "\n",
    "- Khi đó văn bản $d$ được mã hóa là một vector $m$ chiều. Các từ xuất hiện trong d sẽ được thay bằng giá trị tf-idf tương ứng. Các từ không xuất hiện trong $d$ thì thay là 0"
   ]
  },
  {
   "cell_type": "code",
   "execution_count": 3,
   "metadata": {
    "id": "4eQuwrwZhuoY"
   },
   "outputs": [],
   "source": [
    "import os\n",
    "import matplotlib.pyplot as plt\n",
    "import numpy as np\n",
    "\n",
    "from sklearn.datasets import load_files\n",
    "from pyvi import ViTokenizer\n",
    "from sklearn.feature_extraction.text import CountVectorizer\n",
    "from sklearn.feature_extraction.text import TfidfTransformer\n",
    "from sklearn.pipeline import Pipeline\n",
    "\n",
    "%matplotlib inline"
   ]
  },
  {
   "cell_type": "markdown",
   "metadata": {
    "id": "rqNL4mwDhuoa"
   },
   "source": [
    "## Load dữ liệu từ thư mục\n",
    "\n",
    "Cấu trúc thư mục như sau \n",
    "\n",
    "- data/news_vnexpress/\n",
    "\n",
    "    - Kinh tế: \n",
    "        - bài báo 1.txt \n",
    "        - bài báo 2.txt \n",
    "    - Pháp luật\n",
    "        - bài báo 3.txt \n",
    "        - bài báo 4.txt "
   ]
  },
  {
   "cell_type": "code",
   "execution_count": 4,
   "metadata": {
    "id": "tty49E_ohuoa"
   },
   "outputs": [],
   "source": [
    "INPUT = 'C:/Users/Ngo Vu Minh/Desktop/New folder/ML-homeworks/Hw1/news_vnexpress'\n",
    "os.makedirs(\"images\",exist_ok=True)  # thư mục lưu các các hình ảnh trong quá trình huấn luyện và đánh gía"
   ]
  },
  {
   "cell_type": "code",
   "execution_count": 21,
   "metadata": {
    "id": "Ru3Ct7Zphuob",
    "outputId": "89c2f590-efaa-4a4e-c0c5-9b676fa63b7c"
   },
   "outputs": [
    {
     "name": "stdout",
     "output_type": "stream",
     "text": [
      "Các nhãn và số văn bản tương ứng trong dữ liệu\n",
      "----------------------------------------------\n",
      "doi-song: 120\n",
      "du-lich: 54\n",
      "giai-tri: 201\n",
      "giao-duc: 105\n",
      "khoa-hoc: 144\n",
      "kinh-doanh: 262\n",
      "phap-luat: 59\n",
      "suc-khoe: 162\n",
      "the-thao: 173\n",
      "thoi-su: 59\n",
      "-------------------------\n",
      "Tổng số văn bản: 1339\n"
     ]
    }
   ],
   "source": [
    "# statistics\n",
    "print('Các nhãn và số văn bản tương ứng trong dữ liệu')\n",
    "print('----------------------------------------------')\n",
    "n = 0\n",
    "for label in os.listdir(INPUT):\n",
    "    print(f'{label}: {len(os.listdir(os.path.join(INPUT, label)))}')\n",
    "    n += len(os.listdir(os.path.join(INPUT, label)))\n",
    "\n",
    "print('-------------------------')\n",
    "print(f\"Tổng số văn bản: {n}\")"
   ]
  },
  {
   "cell_type": "code",
   "execution_count": 16,
   "metadata": {
    "id": "j3tycWTfhuoc",
    "outputId": "bae88ffb-a53a-4a1e-a9a5-2955b60ba8c0"
   },
   "outputs": [
    {
     "name": "stdout",
     "output_type": "stream",
     "text": [
      "mapping:\n",
      "doi-song - 0\n",
      "du-lich - 1\n",
      "giai-tri - 2\n",
      "giao-duc - 3\n",
      "khoa-hoc - 4\n",
      "kinh-doanh - 5\n",
      "phap-luat - 6\n",
      "suc-khoe - 7\n",
      "the-thao - 8\n",
      "thoi-su - 9\n",
      "--------------------------\n",
      "['C:/Users/Ngo Vu Minh/Desktop/New folder/ML-homeworks/Hw1/news_vnexpress\\\\khoa-hoc\\\\00133.txt']\n",
      "[4]\n",
      "['Mời độc giả đặt câu hỏi tại đây\\n']\n",
      "\n",
      "Tổng số  văn bản: 1339\n"
     ]
    }
   ],
   "source": [
    "# load data\n",
    "data_train = load_files(container_path=INPUT, encoding=\"utf-8\")\n",
    "print('mapping:')\n",
    "for i in range(len(data_train.target_names)):\n",
    "    print(f'{data_train.target_names[i]} - {i}')\n",
    "\n",
    "print('--------------------------')\n",
    "print(data_train.filenames[0:1])\n",
    "# print(data_train.data[0:1])\n",
    "print(data_train.target[0:1])\n",
    "print(data_train.data[0:1])\n",
    "\n",
    "print(\"\\nTổng số  văn bản: {}\" .format( len(data_train.filenames)))"
   ]
  },
  {
   "cell_type": "markdown",
   "metadata": {
    "id": "HU06Y_BKhuoe"
   },
   "source": [
    "## Chuyển dữ liệu dạng text về ma trận (n x m) bằng TF-IDF"
   ]
  },
  {
   "cell_type": "markdown",
   "metadata": {
    "id": "I6vG0C2ima31"
   },
   "source": [
    "* Bạn cần viết đoạn mã tương ứng trong cell bên dưới. Theo các bước được gợi ý"
   ]
  },
  {
   "cell_type": "code",
   "execution_count": 17,
   "metadata": {
    "id": "Ns9j8Hgrhuof",
    "outputId": "11600006-3227-4e0e-91af-e4afd76d7fef"
   },
   "outputs": [
    {
     "name": "stdout",
     "output_type": "stream",
     "text": [
      "số lượng stopwords: 3922\n",
      "['tôi', 'đã', 'bao_giờ', 'nghe_tên', 'cậu_ấy', 'đâu']\n",
      "\n",
      "Số lượng từ trong từ điển: 13107\n",
      "Kích thước dữ liệu sau khi xử lý: (1339, 13107)\n",
      "Kích thước nhãn tương ứng: (1339,)\n"
     ]
    }
   ],
   "source": [
    "stop_word=['tôi', 'đã', 'bao_giờ', 'nghe_tên', 'cậu_ấy', 'đâu']\n",
    "num=0\n",
    "\n",
    "for i in data_train.data:\n",
    "    for j in i.split():\n",
    "        if j in stop_word:\n",
    "            num+=1\n",
    "print(f'số lượng stopwords: {num}')\n",
    "print(stop_word)\n",
    "# Chuyển hoá dữ liệu text về dạng vector TF\n",
    "#     - loại bỏ từ dừng\n",
    "#     - sinh từ điển\n",
    "count_vectorizer=CountVectorizer(stop_words=stop_word)\n",
    "count_matrix=count_vectorizer.fit_transform(data_train.data)\n",
    "# Hàm thực hiện chuyển đổi dữ liệu text thành dữ liệu số dạng ma trận\n",
    "# Input: Dữ liệu 2 chiều dạng numpy.array, mảng nhãn id dạng numpy.array\n",
    "tfidf_transformer=TfidfTransformer()\n",
    "data_preprocessed=tfidf_transformer.fit_transform(count_matrix)\n",
    "\n",
    "\n",
    "X = data_preprocessed # thuoc tinh\n",
    "Y = data_train.target #nhan\n",
    "\n",
    "print(f\"\\nSố lượng từ trong từ điển: {len(count_vectorizer.vocabulary_)}\")\n",
    "print(f\"Kích thước dữ liệu sau khi xử lý: {X.shape}\")\n",
    "print(f\"Kích thước nhãn tương ứng: {Y.shape}\")"
   ]
  },
  {
   "cell_type": "code",
   "execution_count": 18,
   "metadata": {
    "id": "CzIuAyLphuoi",
    "outputId": "7badd4f6-b1b2-4c6f-fd13-f43ec0f5476c"
   },
   "outputs": [
    {
     "name": "stdout",
     "output_type": "stream",
     "text": [
      "[[0.         0.         0.         ... 0.         0.11894073 0.        ]]\n",
      "5\n"
     ]
    }
   ],
   "source": [
    "print(X[100].toarray())\n",
    "print(Y[100])"
   ]
  },
  {
   "cell_type": "code",
   "execution_count": 19,
   "metadata": {
    "id": "apf3ulZhhuoi",
    "outputId": "d1d244bd-e0a9-445d-ecfd-530abff20bc9"
   },
   "outputs": [
    {
     "data": {
      "text/plain": [
       "427"
      ]
     },
     "execution_count": 19,
     "metadata": {},
     "output_type": "execute_result"
    }
   ],
   "source": [
    "sum(sum(X[100].toarray() != 0))"
   ]
  },
  {
   "cell_type": "code",
   "execution_count": 20,
   "metadata": {
    "id": "5FjwPJlfhuoj",
    "outputId": "6481ea2f-dcaf-45eb-e5dc-d7b157f7a896"
   },
   "outputs": [
    {
     "name": "stdout",
     "output_type": "stream",
     "text": [
      "  (0, 13105)\t0.11894072804465039\n",
      "  (0, 13031)\t0.043369726236248796\n",
      "  (0, 13021)\t0.02910628333841525\n",
      "  (0, 13012)\t0.02110408277013169\n",
      "  (0, 13004)\t0.033322362120311165\n",
      "  (0, 12999)\t0.011755485483752513\n",
      "  (0, 12998)\t0.017583993841057317\n",
      "  (0, 12982)\t0.03823623690004154\n",
      "  (0, 12981)\t0.012834392000650115\n",
      "  (0, 12977)\t0.026871773406409196\n",
      "  (0, 12976)\t0.04017798417899323\n",
      "  (0, 12970)\t0.015079771809539046\n",
      "  (0, 12949)\t0.036141930887571026\n",
      "  (0, 12945)\t0.025562773309386097\n",
      "  (0, 12931)\t0.02046546854700502\n",
      "  (0, 12928)\t0.016329759786947756\n",
      "  (0, 12925)\t0.28092882339986985\n",
      "  (0, 12918)\t0.06773348938555819\n",
      "  (0, 12914)\t0.05591036677645372\n",
      "  (0, 12908)\t0.01350127740567994\n",
      "  (0, 12889)\t0.06366217235594486\n",
      "  (0, 12882)\t0.03282169557475909\n",
      "  (0, 12876)\t0.03954728499696566\n",
      "  (0, 12863)\t0.02814208673232945\n",
      "  (0, 12855)\t0.027144744021441812\n",
      "  :\t:\n",
      "  (0, 2113)\t0.02280527296821984\n",
      "  (0, 2087)\t0.012316433132462631\n",
      "  (0, 2062)\t0.060843715979759856\n",
      "  (0, 2050)\t0.034582667784220755\n",
      "  (0, 1870)\t0.04332200535006337\n",
      "  (0, 1791)\t0.039324790172717304\n",
      "  (0, 1786)\t0.04008348604518963\n",
      "  (0, 1634)\t0.019890537837369604\n",
      "  (0, 1593)\t0.02956971200130571\n",
      "  (0, 1531)\t0.01257660219173939\n",
      "  (0, 1320)\t0.01114505571095866\n",
      "  (0, 1272)\t0.013550811338533995\n",
      "  (0, 1220)\t0.04332200535006337\n",
      "  (0, 1210)\t0.08664401070012674\n",
      "  (0, 1195)\t0.04332200535006337\n",
      "  (0, 909)\t0.028092882339986986\n",
      "  (0, 662)\t0.019277564737500082\n",
      "  (0, 418)\t0.041415200701493377\n",
      "  (0, 397)\t0.028982434695986194\n",
      "  (0, 392)\t0.020982590540744615\n",
      "  (0, 269)\t0.02814208673232945\n",
      "  (0, 188)\t0.03998179961214399\n",
      "  (0, 156)\t0.019694903246598255\n",
      "  (0, 100)\t0.017583993841057317\n",
      "  (0, 81)\t0.01287849922999441\n"
     ]
    }
   ],
   "source": [
    "print(X[100])"
   ]
  }
 ],
 "metadata": {
  "colab": {
   "collapsed_sections": [],
   "name": "Preprocessing_news.ipynb",
   "provenance": []
  },
  "kernelspec": {
   "display_name": "Python 3",
   "language": "python",
   "name": "python3"
  },
  "language_info": {
   "codemirror_mode": {
    "name": "ipython",
    "version": 3
   },
   "file_extension": ".py",
   "mimetype": "text/x-python",
   "name": "python",
   "nbconvert_exporter": "python",
   "pygments_lexer": "ipython3",
   "version": "3.11.9"
  }
 },
 "nbformat": 4,
 "nbformat_minor": 1
}
