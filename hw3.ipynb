{
  "cells": [
    {
      "cell_type": "markdown",
      "metadata": {
        "id": "cbKq7UFdAAM-"
      },
      "source": [
        "# Đề bài về nhà"
      ]
    },
    {
      "cell_type": "markdown",
      "metadata": {
        "id": "x4mPFEb7AAM_"
      },
      "source": [
        "## Yêu cầu"
      ]
    },
    {
      "cell_type": "markdown",
      "metadata": {
        "id": "ecQ-l0tHAANA"
      },
      "source": [
        "- Tự viết code cho mô hình Linear Regression theo công thức đã được dạy trong buổi lý thuyết trên lớp.\n",
        "- Tự viết hàm dự đoán.\n",
        "- Huấn luyện cả mô hình của thư viện và mô hình mình tự viết.\n",
        "- In ra các trọng số: w0, w1, w2, ..., wn của cả 2 mô hình đã huấn luyện để quan sát và so sánh.\n",
        "- Dự đoán dữ liệu tập test bằng cả 2 mô hình (mô hình thư viện thì dùng hàm predict() của thư viện, mô hình tự viết dùng hàm dự đoán tự viết), in ra kết quả bằng Dataframe như trong bài thực hành trên lớp.\n",
        "- Tính RMSE trên tập test cho cả 2 mô hình và so sánh."
      ]
    },
    {
      "cell_type": "markdown",
      "metadata": {
        "id": "zDwFb2rSAANA"
      },
      "source": [
        "## Dữ liệu"
      ]
    },
    {
      "cell_type": "markdown",
      "metadata": {
        "id": "7DZnZe5FAANB"
      },
      "source": [
        "Tập dữ liệu giá nhà ở Boston đã có sẵn trên sklearn, dữ liệu đã được chuẩn hóa và chia thành tập train, tập test"
      ]
    },
    {
      "cell_type": "code",
      "execution_count": 2,
      "metadata": {
        "id": "v0r7uMP9AANB"
      },
      "outputs": [],
      "source": [
        "import matplotlib.pyplot as plt\n",
        "import numpy as np\n",
        "import pandas as pd\n",
        "import math\n",
        "\n",
        "from sklearn import datasets, linear_model\n",
        "from sklearn.metrics import mean_squared_error, r2_score\n",
        "from sklearn.linear_model import LinearRegression\n",
        "from sklearn.model_selection import train_test_split"
      ]
    },
    {
      "cell_type": "markdown",
      "metadata": {
        "id": "LhscyzgSAANC"
      },
      "source": [
        "# Đọc dữ liệu\n",
        "\n",
        "Dữ liệu về giá nhà ở Boston được hỗ trợ bởi sklearn, đọc dữ liệu thông qua hàm `datasets.load_boston()`\n",
        "\n",
        "Xem thêm các bộ dữ liệu khác tại https://scikit-learn.org/stable/datasets/index.html#toy-datasets.\n",
        "\n",
        "Dữ liệu được chia thành các thành phần data và target như tập diabetes. Dữ liệu cũng đã được chuẩn hóa, chỉ cần gọi ra và huấn luyện"
      ]
    },
    {
      "cell_type": "code",
      "execution_count": 3,
      "metadata": {
        "colab": {
          "base_uri": "https://localhost:8080/"
        },
        "id": "niutBO2cAANC",
        "outputId": "f627e063-dbd0-411e-a4b7-5b2e1f79b59d"
      },
      "outputs": [
        {
          "output_type": "stream",
          "name": "stdout",
          "text": [
            "Số chiều dữ liệu input:  (506, 13)\n",
            "Số chiều dữ liệu target:  (506,)\n",
            "\n",
            "5 mẫu dữ liệu đầu tiên:\n",
            "input:  [[6.3200e-03 1.8000e+01 2.3100e+00 0.0000e+00 5.3800e-01 6.5750e+00\n",
            "  6.5200e+01 4.0900e+00 1.0000e+00 2.9600e+02 1.5300e+01 3.9690e+02\n",
            "  4.9800e+00]\n",
            " [2.7310e-02 0.0000e+00 7.0700e+00 0.0000e+00 4.6900e-01 6.4210e+00\n",
            "  7.8900e+01 4.9671e+00 2.0000e+00 2.4200e+02 1.7800e+01 3.9690e+02\n",
            "  9.1400e+00]\n",
            " [2.7290e-02 0.0000e+00 7.0700e+00 0.0000e+00 4.6900e-01 7.1850e+00\n",
            "  6.1100e+01 4.9671e+00 2.0000e+00 2.4200e+02 1.7800e+01 3.9283e+02\n",
            "  4.0300e+00]\n",
            " [3.2370e-02 0.0000e+00 2.1800e+00 0.0000e+00 4.5800e-01 6.9980e+00\n",
            "  4.5800e+01 6.0622e+00 3.0000e+00 2.2200e+02 1.8700e+01 3.9463e+02\n",
            "  2.9400e+00]\n",
            " [6.9050e-02 0.0000e+00 2.1800e+00 0.0000e+00 4.5800e-01 7.1470e+00\n",
            "  5.4200e+01 6.0622e+00 3.0000e+00 2.2200e+02 1.8700e+01 3.9690e+02\n",
            "  5.3300e+00]]\n",
            "target:  [24.  21.6 34.7 33.4 36.2]\n"
          ]
        }
      ],
      "source": [
        "# lay du lieu dataset - du lieu ve giá nhà\n",
        "data_url = \"http://lib.stat.cmu.edu/datasets/boston\"\n",
        "raw_df = pd.read_csv(data_url, sep=\"\\s+\", skiprows=22, header=None)\n",
        "data = np.hstack([raw_df.values[::2, :], raw_df.values[1::2, :2]])\n",
        "target = raw_df.values[1::2, 2]\n",
        "print(\"Số chiều dữ liệu input: \", data.shape)\n",
        "print(\"Số chiều dữ liệu target: \", target.shape)\n",
        "print()\n",
        "\n",
        "print(\"5 mẫu dữ liệu đầu tiên:\")\n",
        "print(\"input: \", data[:5])\n",
        "print(\"target: \",target[:5])"
      ]
    },
    {
      "cell_type": "markdown",
      "metadata": {
        "id": "38YDQE-xAAND"
      },
      "source": [
        "**Chia dữ liệu làm 2 phần training 362 mẫu và testing 80 mẫu**"
      ]
    },
    {
      "cell_type": "code",
      "execution_count": 4,
      "metadata": {
        "id": "CKOpc8InAAND"
      },
      "outputs": [],
      "source": [
        "# cat nho du lieu, lay 1 phan cho qua trinh thu nghiem,\n",
        "# chia train test cac mau du lieu\n",
        "# dataset_X = dataset.data[:, np.newaxis, 2]\n",
        "dataset_X = data\n",
        "\n",
        "dataset_X_train = data[:362]\n",
        "dataset_y_train = target[:362]\n",
        "\n",
        "dataset_X_test = data[:80]\n",
        "dataset_y_test = target[:80]\n"
      ]
    },
    {
      "cell_type": "markdown",
      "metadata": {
        "id": "Epvo-w66AANE"
      },
      "source": [
        "# Xây dựng mô hình"
      ]
    },
    {
      "cell_type": "markdown",
      "metadata": {
        "id": "ooJ3C85gAANE"
      },
      "source": [
        "## Xây dựng mô hình bằng thư viện"
      ]
    },
    {
      "cell_type": "code",
      "source": [
        "\n",
        "# Tạo mô hình Linear Regression\n",
        "model = LinearRegression()\n",
        "\n",
        "# Huấn luyện mô hình trên tập train\n",
        "model.fit(dataset_X_train, dataset_y_train)\n",
        "\n",
        "# Dự đoán trên tập test\n",
        "y_pred = model.predict(dataset_X_test)\n",
        "\n",
        "# In ra các trọng số của mô hình\n",
        "print(\"Intercept (w0):\", model.intercept_)\n",
        "print(\"Coefficients (w1, w2, ...):\", model.coef_)\n",
        "\n",
        "# Tạo DataFrame để hiển thị kết quả\n",
        "df_result = pd.DataFrame({'Actual': dataset_y_test, 'Predicted': y_pred})\n",
        "print(df_result)\n",
        "\n",
        "# Tính RMSE trên tập test\n",
        "rmse = math.sqrt(mean_squared_error(dataset_y_test, y_pred))\n",
        "print(\"RMSE:\", rmse)\n"
      ],
      "metadata": {
        "id": "uXmin2BxGZlt",
        "colab": {
          "base_uri": "https://localhost:8080/"
        },
        "outputId": "28ed1dee-d0b2-4392-f6de-cabd3c196563"
      },
      "execution_count": 5,
      "outputs": [
        {
          "output_type": "stream",
          "name": "stdout",
          "text": [
            "Intercept (w0): -14.390472021662191\n",
            "Coefficients (w1, w2, ...): [ 0.70453742  0.01735452  0.04533144  0.65906587 -5.75140687  9.15614664\n",
            " -0.04371358 -0.84537689  0.12343773 -0.0145928  -0.61269236  0.01363164\n",
            " -0.11002505]\n",
            "    Actual  Predicted\n",
            "0     24.0  28.123017\n",
            "1     21.6  24.609660\n",
            "2     34.7  32.889791\n",
            "3     33.4  30.774145\n",
            "4     36.2  31.565044\n",
            "..     ...        ...\n",
            "75    21.4  23.119151\n",
            "76    20.0  21.686950\n",
            "77    20.8  21.994604\n",
            "78    21.2  21.453890\n",
            "79    20.3  19.863376\n",
            "\n",
            "[80 rows x 2 columns]\n",
            "RMSE: 2.4344984812392236\n"
          ]
        }
      ]
    },
    {
      "cell_type": "markdown",
      "metadata": {
        "id": "jTzfaeyQAANE"
      },
      "source": [
        "## Xây dựng mô hình Linear Regression tự viết"
      ]
    },
    {
      "cell_type": "code",
      "source": [
        "# prompt: create linear regression with dataset_X_train, dataset_Y_train, dataset_X_test, dataset_Y_test by caculate w*\n",
        "\n",
        "# Hàm tính toán ma trận nghịch đảo\n",
        "def inverse_matrix(matrix):\n",
        "    return np.linalg.inv(matrix)\n",
        "\n",
        "# Hàm tính toán trọng số w*\n",
        "def calculate_w_star(X_train, y_train):\n",
        "  # Thêm cột 1 vào ma trận X_train\n",
        "  X_train = np.c_[np.ones(X_train.shape[0]), X_train]\n",
        "  # Tính w* = (X^T * X)^-1 * X^T * y\n",
        "  w_star = inverse_matrix(X_train.T @ X_train) @ X_train.T @ y_train\n",
        "  return w_star\n",
        "\n",
        "# Hàm dự đoán\n",
        "def predict(X_test, w_star):\n",
        "  # Thêm cột 1 vào ma trận X_test\n",
        "  X_test = np.c_[np.ones(X_test.shape[0]), X_test]\n",
        "  # Tính y_pred = X * w*\n",
        "  y_pred = X_test @ w_star\n",
        "  return y_pred\n",
        "\n",
        "# Tính toán trọng số w*\n",
        "w_star = calculate_w_star(dataset_X_train, dataset_y_train)\n",
        "\n",
        "# In ra các trọng số của mô hình tự viết\n",
        "print(\"Intercept (w0):\", w_star[0])\n",
        "print(\"Coefficients (w1, w2, ...):\", w_star[1:])\n",
        "\n",
        "# Dự đoán trên tập test bằng mô hình tự viết\n",
        "y_pred_custom = predict(dataset_X_test, w_star)\n",
        "\n",
        "# Tạo DataFrame để hiển thị kết quả\n",
        "df_result_custom = pd.DataFrame({'Actual': dataset_y_test, 'Predicted': y_pred_custom})\n",
        "print(df_result_custom)\n",
        "\n",
        "# Tính RMSE trên tập test cho mô hình tự viết\n",
        "rmse_custom = math.sqrt(mean_squared_error(dataset_y_test, y_pred_custom))\n",
        "print(\"RMSE (Custom Model):\", rmse_custom)\n"
      ],
      "metadata": {
        "colab": {
          "base_uri": "https://localhost:8080/"
        },
        "id": "0lHrewpvBF-8",
        "outputId": "b786b116-7c91-4ab8-9a7d-d43787e4010f"
      },
      "execution_count": 7,
      "outputs": [
        {
          "output_type": "stream",
          "name": "stdout",
          "text": [
            "Intercept (w0): -14.390472021671092\n",
            "Coefficients (w1, w2, ...): [ 0.70453742  0.01735452  0.04533144  0.65906587 -5.75140687  9.15614664\n",
            " -0.04371358 -0.84537689  0.12343773 -0.0145928  -0.61269236  0.01363164\n",
            " -0.11002505]\n",
            "    Actual  Predicted\n",
            "0     24.0  28.123017\n",
            "1     21.6  24.609660\n",
            "2     34.7  32.889791\n",
            "3     33.4  30.774145\n",
            "4     36.2  31.565044\n",
            "..     ...        ...\n",
            "75    21.4  23.119151\n",
            "76    20.0  21.686950\n",
            "77    20.8  21.994604\n",
            "78    21.2  21.453890\n",
            "79    20.3  19.863376\n",
            "\n",
            "[80 rows x 2 columns]\n",
            "RMSE (Custom Model): 2.4344984812391\n"
          ]
        }
      ]
    },
    {
      "cell_type": "markdown",
      "metadata": {
        "id": "dg2NzwgUAANE"
      },
      "source": [
        "## Hàm test mô hình tự viết"
      ]
    },
    {
      "cell_type": "markdown",
      "metadata": {
        "id": "VvuhL1DXAANE"
      },
      "source": [
        "# Huấn luyện mô hình"
      ]
    },
    {
      "cell_type": "markdown",
      "metadata": {
        "id": "s7DOC3-RAANE"
      },
      "source": [
        "## Huấn luyện mô hình của thư viện"
      ]
    },
    {
      "cell_type": "markdown",
      "metadata": {
        "id": "xKl1s1TfAANE"
      },
      "source": [
        "## Training mô hình bằng Linear regression tự viết"
      ]
    },
    {
      "cell_type": "markdown",
      "metadata": {
        "id": "Ddk9GjPEAANE"
      },
      "source": [
        "# Dự đoán các mẫu dữ liệu"
      ]
    },
    {
      "cell_type": "markdown",
      "metadata": {
        "id": "N8_0-Cp4AANF"
      },
      "source": [
        "## Dự đoán các mẫu dữ liệu theo mô hình của thư viện\n",
        "\n",
        "---\n",
        "\n"
      ]
    },
    {
      "cell_type": "markdown",
      "metadata": {
        "id": "OdSr5BKWAANF"
      },
      "source": [
        "## Dự đoán các mẫu dữ liệu tính theo linear regression tự viết"
      ]
    },
    {
      "cell_type": "markdown",
      "metadata": {
        "id": "5a-ooZ4cAANF"
      },
      "source": [
        "## Đánh giá mô hình linear regression của thư viện"
      ]
    },
    {
      "cell_type": "markdown",
      "source": [
        "Mô hình linear regression của thư viện có độ chính xác tương đối với các bộ test\n",
        "dữ liệu thực"
      ],
      "metadata": {
        "id": "RmIlDYT0GJJt"
      }
    },
    {
      "cell_type": "markdown",
      "metadata": {
        "id": "02OMjjB8AANF"
      },
      "source": [
        "## Đánh giá mô hình linear regression tự viết"
      ]
    },
    {
      "cell_type": "markdown",
      "source": [
        "Mô hình linear regression tự viết đã bám sát lý thuyết đã được học và kết quả cho ra hoàn toàn trùng khớp với thư viện"
      ],
      "metadata": {
        "id": "pLD4rNSfGa15"
      }
    },
    {
      "cell_type": "code",
      "execution_count": null,
      "metadata": {
        "id": "gqqIB8ArAANF"
      },
      "outputs": [],
      "source": []
    }
  ],
  "metadata": {
    "kernelspec": {
      "display_name": "Python 3",
      "language": "python",
      "name": "python3"
    },
    "language_info": {
      "codemirror_mode": {
        "name": "ipython",
        "version": 3
      },
      "file_extension": ".py",
      "mimetype": "text/x-python",
      "name": "python",
      "nbconvert_exporter": "python",
      "pygments_lexer": "ipython3",
      "version": "3.8.8"
    },
    "colab": {
      "provenance": []
    }
  },
  "nbformat": 4,
  "nbformat_minor": 0
}