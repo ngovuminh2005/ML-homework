{
  "nbformat": 4,
  "nbformat_minor": 0,
  "metadata": {
    "accelerator": "GPU",
    "colab": {
      "provenance": []
    },
    "kernelspec": {
      "display_name": "Python 3",
      "name": "python3"
    }
  },
  "cells": [
    {
      "cell_type": "markdown",
      "source": [
        "# BTVN: Training Neural Networks (Tiếp)\n",
        "Trong phần này các bạn sẽ làm quen với kỹ thuật model ensemble để tăng độ chính xác khi suy diễn"
      ],
      "metadata": {
        "id": "CspDnsdcmRze"
      }
    },
    {
      "cell_type": "code",
      "execution_count": 1,
      "source": [
        "!nvidia-smi\n",
        "\n",
        "\n",
        "import torch\n",
        "import torch.nn as nn\n",
        "import torch.optim as optim\n",
        "import numpy as np\n",
        "import glob\n",
        "import cv2\n",
        "import torch.nn.functional as F\n",
        "from torch.autograd import Variable\n",
        "import os\n",
        "\n",
        "import torchvision\n",
        "import torchvision.transforms as transforms\n",
        "\n",
        "from torch.nn import CrossEntropyLoss, Dropout, Softmax, Linear, Conv2d, LayerNorm\n",
        "import matplotlib.pyplot as plt\n",
        "from torchsummary import summary"
      ],
      "outputs": [
        {
          "output_type": "stream",
          "name": "stdout",
          "text": [
            "/bin/bash: line 1: nvidia-smi: command not found\n"
          ]
        }
      ],
      "metadata": {
        "colab": {
          "base_uri": "https://localhost:8080/"
        },
        "id": "dALhhAr_5agu",
        "outputId": "423748ac-555f-4023-f487-0455c6f4025b"
      }
    },
    {
      "cell_type": "markdown",
      "source": [
        "Tải dữ liệu và cài đặt một kiến trúc mạng nơ-ron đơn giản theo mô tả phía dưới"
      ],
      "metadata": {
        "id": "1_jDYArKvZ-Z"
      }
    },
    {
      "cell_type": "code",
      "execution_count": 2,
      "source": [
        "def load_data(data_dir=\"./data\"):\n",
        "    transform = transforms.Compose([\n",
        "        transforms.ToTensor(),\n",
        "        transforms.Normalize((0.5, 0.5, 0.5), (0.5, 0.5, 0.5))\n",
        "    ])\n",
        "\n",
        "    trainset = torchvision.datasets.CIFAR10(\n",
        "        root=data_dir, train=True, download=True, transform=transform)\n",
        "\n",
        "    testset = torchvision.datasets.CIFAR10(\n",
        "        root=data_dir, train=False, download=True, transform=transform)\n",
        "\n",
        "    return trainset, testset\n",
        "\n",
        "\n",
        "class Net(nn.Module):\n",
        "    def __init__(self,l1,l2):\n",
        "        super(Net,self).__init__()\n",
        "        self.conv1=nn.Conv2d(3,6,5)\n",
        "        self.pool1=nn.MaxPool2d(2,2)\n",
        "        self.conv2=nn.Conv2d(6,16,5)\n",
        "        self.pool2=nn.MaxPool2d(2,2)\n",
        "        self.fc1=nn.Linear(16*5*5,l1)\n",
        "        self.fc2=nn.Linear(l1,l2)\n",
        "        self.fc3=nn.Linear(l2,10)\n",
        "    def forward(self,x):\n",
        "        x=self.pool1(F.relu(self.conv1(x)))\n",
        "        x=self.pool2(F.relu(self.conv2(x)))\n",
        "        x=x.view(x.size(0),-1)\n",
        "        x=F.relu(self.fc1(x))\n",
        "        x=F.relu(self.fc2(x))\n",
        "        x=self.fc3(x)\n",
        "        return x\n",
        "l1,l2=120,84\n",
        "model = Net(l1,l2)\n",
        "if torch.cuda.is_available():\n",
        "    model.cuda()\n",
        "summary(model, (3, 32, 32))"
      ],
      "outputs": [
        {
          "output_type": "stream",
          "name": "stdout",
          "text": [
            "----------------------------------------------------------------\n",
            "        Layer (type)               Output Shape         Param #\n",
            "================================================================\n",
            "            Conv2d-1            [-1, 6, 28, 28]             456\n",
            "         MaxPool2d-2            [-1, 6, 14, 14]               0\n",
            "            Conv2d-3           [-1, 16, 10, 10]           2,416\n",
            "         MaxPool2d-4             [-1, 16, 5, 5]               0\n",
            "            Linear-5                  [-1, 120]          48,120\n",
            "            Linear-6                   [-1, 84]          10,164\n",
            "            Linear-7                   [-1, 10]             850\n",
            "================================================================\n",
            "Total params: 62,006\n",
            "Trainable params: 62,006\n",
            "Non-trainable params: 0\n",
            "----------------------------------------------------------------\n",
            "Input size (MB): 0.01\n",
            "Forward/backward pass size (MB): 0.06\n",
            "Params size (MB): 0.24\n",
            "Estimated Total Size (MB): 0.31\n",
            "----------------------------------------------------------------\n"
          ]
        }
      ],
      "metadata": {
        "id": "ptNpnOaYCuK6",
        "colab": {
          "base_uri": "https://localhost:8080/"
        },
        "outputId": "d6934ad9-17b2-4271-a5e6-1d8fc8108cf7"
      }
    },
    {
      "cell_type": "markdown",
      "source": [
        "Hàm đánh giá độ chính xác trên tập test"
      ],
      "metadata": {
        "id": "nYrkd6R6MRP8"
      }
    },
    {
      "cell_type": "code",
      "execution_count": 3,
      "source": [
        "def test_accuracy(net, device=\"cpu\"):\n",
        "    correct = 0\n",
        "    total = 0\n",
        "    with torch.no_grad():\n",
        "        for data in testloader:\n",
        "            images, labels = data\n",
        "            images, labels = images.to(device), labels.to(device)\n",
        "            outputs = net(images)\n",
        "            _, predicted = torch.max(outputs.data, 1)\n",
        "            total += labels.size(0)\n",
        "            correct += (predicted == labels).sum().item()\n",
        "\n",
        "    return correct / total"
      ],
      "outputs": [],
      "metadata": {
        "id": "GV63_UK5SqbP"
      }
    },
    {
      "cell_type": "markdown",
      "source": [
        "Hàm huấn luyện mô hình"
      ],
      "metadata": {
        "id": "k9H1-f19MRP8"
      }
    },
    {
      "cell_type": "code",
      "execution_count": 4,
      "source": [
        "def train(net, criterion, optimizer, save_path, device=\"cpu\"):\n",
        "    T_cur = 0\n",
        "    for epoch in range(1, epochs+1):  # loop over the dataset multiple times\n",
        "        running_loss = 0.0\n",
        "        epoch_steps = 0\n",
        "        T_cur += 1\n",
        "\n",
        "        # warm-up\n",
        "        if epoch <= warm_epoch:\n",
        "            optimizer.param_groups[0]['lr'] = (1.0 * epoch) / warm_epoch  * init_lr\n",
        "        else:\n",
        "            # cosine annealing lr\n",
        "            optimizer.param_groups[0]['lr'] = last_lr + (init_lr - last_lr) * (1 + np.cos(T_cur * np.pi / T_max)) / 2\n",
        "\n",
        "        for i, data in enumerate(trainloader, 0):\n",
        "            # get the inputs; data is a list of [inputs, labels]\n",
        "            inputs, labels = data\n",
        "            inputs, labels = inputs.to(device), labels.to(device)\n",
        "\n",
        "            # zero the parameter gradients\n",
        "            optimizer.zero_grad()\n",
        "\n",
        "            # forward + backward + optimize\n",
        "            outputs = net(inputs)\n",
        "            loss = criterion(outputs, labels)\n",
        "            loss.backward()\n",
        "            optimizer.step()\n",
        "\n",
        "            # print statistics\n",
        "            running_loss += loss.item()\n",
        "            epoch_steps += 1\n",
        "            if i + 1 == len(trainloader):\n",
        "                print(\"[Epoch %d] loss: %.3f\" % (epoch, running_loss / epoch_steps))\n",
        "                running_loss = 0.0\n",
        "\n",
        "    print(\"Finished Training\")\n",
        "    print(\"Test accuracy:\", test_accuracy(net, device))\n",
        "    torch.save(net.state_dict(), save_path)"
      ],
      "outputs": [],
      "metadata": {
        "id": "Bk1YvtHgOKqk"
      }
    },
    {
      "cell_type": "markdown",
      "source": [
        "Thiết lập các tham số và hai kiến trúc mạng khác nhau"
      ],
      "metadata": {
        "id": "gxsS_AGcMRP8"
      }
    },
    {
      "cell_type": "code",
      "execution_count": 5,
      "source": [
        "epochs = 10\n",
        "warm_epoch = 5\n",
        "init_lr = 1e-2\n",
        "last_lr = 1e-4\n",
        "T_max = epochs\n",
        "\n",
        "configs = [{'l1': 64, 'l2': 32}, {'l1': 128, 'l2': 64}]\n",
        "\n",
        "trainset, testset = load_data('./data')\n",
        "trainloader = torch.utils.data.DataLoader(\n",
        "    trainset,\n",
        "    batch_size=128,\n",
        "    shuffle=True,\n",
        ")\n",
        "testloader = torch.utils.data.DataLoader(\n",
        "    testset, batch_size=4, shuffle=False, num_workers=2)"
      ],
      "outputs": [
        {
          "output_type": "stream",
          "name": "stdout",
          "text": [
            "Downloading https://www.cs.toronto.edu/~kriz/cifar-10-python.tar.gz to ./data/cifar-10-python.tar.gz\n"
          ]
        },
        {
          "output_type": "stream",
          "name": "stderr",
          "text": [
            "100%|██████████| 170498071/170498071 [00:03<00:00, 42632011.35it/s]\n"
          ]
        },
        {
          "output_type": "stream",
          "name": "stdout",
          "text": [
            "Extracting ./data/cifar-10-python.tar.gz to ./data\n",
            "Files already downloaded and verified\n"
          ]
        }
      ],
      "metadata": {
        "id": "mS4soUx9iwvh",
        "colab": {
          "base_uri": "https://localhost:8080/"
        },
        "outputId": "5e6d813f-3767-4988-a7f9-a04b3c35db68"
      }
    },
    {
      "cell_type": "markdown",
      "source": [
        "Huấn luyện hai mạng mô tả trong configs"
      ],
      "metadata": {
        "id": "0x9GwML3MRP9"
      }
    },
    {
      "cell_type": "code",
      "execution_count": 6,
      "source": [
        "os.makedirs('./snapshot', exist_ok=True)\n",
        "\n",
        "for i, cfg in enumerate(configs):\n",
        "    print(cfg)\n",
        "    net = Net(cfg['l1'], cfg['l2'])\n",
        "    criterion=nn.CrossEntropyLoss()\n",
        "    optimizer=optim.SGD(net.parameters())\n",
        "    save_path=f'./snapshot/model{i}.pth'\n",
        "    train(net, criterion, optimizer, save_path, device=\"cpu\")\n"
      ],
      "outputs": [
        {
          "output_type": "stream",
          "name": "stdout",
          "text": [
            "{'l1': 64, 'l2': 32}\n",
            "[Epoch 1] loss: 2.305\n",
            "[Epoch 2] loss: 2.303\n",
            "[Epoch 3] loss: 2.301\n",
            "[Epoch 4] loss: 2.292\n",
            "[Epoch 5] loss: 2.235\n",
            "[Epoch 6] loss: 2.110\n",
            "[Epoch 7] loss: 2.060\n",
            "[Epoch 8] loss: 2.037\n",
            "[Epoch 9] loss: 2.028\n",
            "[Epoch 10] loss: 2.026\n",
            "Finished Training\n",
            "Test accuracy: 0.2549\n",
            "{'l1': 128, 'l2': 64}\n",
            "[Epoch 1] loss: 2.305\n",
            "[Epoch 2] loss: 2.303\n",
            "[Epoch 3] loss: 2.300\n",
            "[Epoch 4] loss: 2.290\n",
            "[Epoch 5] loss: 2.212\n",
            "[Epoch 6] loss: 2.097\n",
            "[Epoch 7] loss: 2.061\n",
            "[Epoch 8] loss: 2.045\n",
            "[Epoch 9] loss: 2.038\n",
            "[Epoch 10] loss: 2.037\n",
            "Finished Training\n",
            "Test accuracy: 0.2538\n"
          ]
        }
      ],
      "metadata": {
        "colab": {
          "base_uri": "https://localhost:8080/"
        },
        "id": "rHabW0HfNQuj",
        "outputId": "80b088b2-5f72-45b5-d8d0-23d31f7aac84"
      }
    },
    {
      "cell_type": "markdown",
      "source": [
        "Kết hợp kết quả hai mạng (ensemble)"
      ],
      "metadata": {
        "id": "4VTFCoa-MRP-"
      }
    },
    {
      "cell_type": "code",
      "execution_count": 7,
      "source": [
        "from tqdm import tqdm\n",
        "\n",
        "def test_ensemble(device=\"cuda:0\"):\n",
        "    correct = 0\n",
        "    total = 0\n",
        "    with torch.no_grad():\n",
        "        for data in tqdm(testloader):\n",
        "            images, labels = data\n",
        "            images, labels = images.to(device), labels.to(device)\n",
        "            final_outputs = torch.zeros((4, 10)).to(device)\n",
        "            for i, cfg in enumerate(configs):\n",
        "                net = Net(cfg['l1'], cfg['l2'])\n",
        "                net.to(device)\n",
        "                net.load_state_dict(torch.load(f'./snapshot/model{i}.pth'))\n",
        "                outputs = net(images)\n",
        "                final_outputs = final_outputs.add(outputs)\n",
        "\n",
        "            final_outputs.div(len(configs))\n",
        "            _, predicted = torch.max(final_outputs.data, 1)\n",
        "            total += labels.size(0)\n",
        "            correct += (predicted == labels).sum().item()\n",
        "\n",
        "    return correct / total"
      ],
      "outputs": [],
      "metadata": {
        "id": "_W4q6zccShD5"
      }
    },
    {
      "cell_type": "code",
      "execution_count": 10,
      "source": [
        "from tqdm import tqdm\n",
        "\n",
        "def test_ensemble(device=\"cpu\"):\n",
        "    correct = 0\n",
        "    total = 0\n",
        "    with torch.no_grad():\n",
        "        for data in tqdm(testloader):\n",
        "            images, labels = data\n",
        "            images, labels = images.to(device), labels.to(device)\n",
        "            final_outputs = torch.zeros((4, 10)).to(device)\n",
        "            for i, cfg in enumerate(configs):\n",
        "                net = Net(cfg['l1'], cfg['l2'])\n",
        "                net.to(device)\n",
        "                net.load_state_dict(torch.load(f'./snapshot/model{i}.pth'))\n",
        "                outputs = net(images)\n",
        "                final_outputs = final_outputs.add(outputs)\n",
        "\n",
        "            final_outputs.div(len(configs))\n",
        "            _, predicted = torch.max(final_outputs.data, 1)\n",
        "            total += labels.size(0)\n",
        "            correct += (predicted == labels).sum().item()\n",
        "\n",
        "    return correct / total"
      ],
      "outputs": [],
      "metadata": {
        "id": "u5lpvIKYMRP-"
      }
    },
    {
      "cell_type": "code",
      "execution_count": 11,
      "source": [
        "test_ensemble()"
      ],
      "outputs": [
        {
          "output_type": "stream",
          "name": "stderr",
          "text": [
            "  0%|          | 0/2500 [00:00<?, ?it/s]<ipython-input-10-75a921e22786>:14: FutureWarning: You are using `torch.load` with `weights_only=False` (the current default value), which uses the default pickle module implicitly. It is possible to construct malicious pickle data which will execute arbitrary code during unpickling (See https://github.com/pytorch/pytorch/blob/main/SECURITY.md#untrusted-models for more details). In a future release, the default value for `weights_only` will be flipped to `True`. This limits the functions that could be executed during unpickling. Arbitrary objects will no longer be allowed to be loaded via this mode unless they are explicitly allowlisted by the user via `torch.serialization.add_safe_globals`. We recommend you start setting `weights_only=True` for any use case where you don't have full control of the loaded file. Please open an issue on GitHub for any issues related to this experimental feature.\n",
            "  net.load_state_dict(torch.load(f'./snapshot/model{i}.pth'))\n",
            "100%|██████████| 2500/2500 [00:31<00:00, 78.80it/s]\n"
          ]
        },
        {
          "output_type": "execute_result",
          "data": {
            "text/plain": [
              "0.2574"
            ]
          },
          "metadata": {},
          "execution_count": 11
        }
      ],
      "metadata": {
        "colab": {
          "base_uri": "https://localhost:8080/"
        },
        "id": "S-zwy7Uxcmmh",
        "outputId": "9e7200f1-f7a9-4372-def9-3167a1f0256c"
      }
    },
    {
      "cell_type": "code",
      "execution_count": null,
      "source": [],
      "outputs": [],
      "metadata": {
        "id": "7RsZiih2dQS2"
      }
    }
  ]
}